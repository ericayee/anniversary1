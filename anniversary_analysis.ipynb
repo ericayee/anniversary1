{
 "cells": [
  {
   "cell_type": "code",
   "execution_count": 1,
   "metadata": {},
   "outputs": [],
   "source": [
    "# import librarie we'll need\n",
    "import csv\n",
    "import pandas as pd\n",
    "import json\n",
    "from datetime import datetime"
   ]
  },
  {
   "cell_type": "code",
   "execution_count": 30,
   "metadata": {},
   "outputs": [],
   "source": [
    "# save variable names\n",
    "csvfilename = 'chatdata.csv'\n",
    "csv_content = 'contentdata.csv'\n",
    "csv_gifs = 'gifsdata.csv'\n",
    "jsonfiles = ['messages/inbox/BenFickes_cw7Pu7TBsQ/message_1.json', 'messages/inbox/BenFickes_cw7Pu7TBsQ/message_2.json', 'messages/inbox/BenFickes_cw7Pu7TBsQ/message_3.json']"
   ]
  },
  {
   "cell_type": "code",
   "execution_count": 11,
   "metadata": {},
   "outputs": [],
   "source": [
    "# extract json data of interest to csv\n",
    "with open(csvfilename, 'w', newline='') as csvfile:\n",
    "    writer = csv.writer(csvfile)\n",
    "    header = ['timestamp', 'date', 'month', 'time', 'name']\n",
    "    writer.writerow(header)\n",
    "    for f in jsonfiles:\n",
    "        with open(f) as json_file:\n",
    "            data = json.load(json_file)\n",
    "            for m in data['messages']:\n",
    "                timestamp = datetime.fromtimestamp(m['timestamp_ms']//1000.0)\n",
    "                date = datetime.strftime(timestamp, '%Y-%m-%d')\n",
    "                month = datetime.strftime(timestamp, '%B %Y')\n",
    "                time = datetime.strftime(timestamp, '%H:%M:%S')\n",
    "                name = m['sender_name']\n",
    "                # print('%s %s $s %s' % (timestamp, date, month, time))\n",
    "                row = [timestamp, date, month, time, name]\n",
    "                writer.writerow(row)"
   ]
  },
  {
   "cell_type": "code",
   "execution_count": 19,
   "metadata": {},
   "outputs": [],
   "source": [
    "# get summary stats\n",
    "## total messages\n",
    "## how many from each of us\n",
    "## how many per month\n",
    "\n",
    "month_totals_erica = dict()\n",
    "month_totals_ben = dict()\n",
    "with open(csvfilename, 'r') as csvfile:\n",
    "    reader = csv.reader(csvfile)\n",
    "    message_count = 0\n",
    "    for row in reader:\n",
    "        if message_count == 0:\n",
    "            message_count += 1\n",
    "        elif row[4] == 'Erica Yee':\n",
    "            month = row[2]\n",
    "            if month in month_totals_erica: \n",
    "                month_totals_erica[month] += 1\n",
    "            else: \n",
    "                month_totals_erica[month] = 1\n",
    "            message_count += 1\n",
    "        else:\n",
    "            month = row[2]\n",
    "            if month in month_totals_ben: \n",
    "                month_totals_ben[month] += 1\n",
    "            else: \n",
    "                month_totals_ben[month] = 1\n",
    "            message_count += 1"
   ]
  },
  {
   "cell_type": "code",
   "execution_count": 20,
   "metadata": {},
   "outputs": [
    {
     "name": "stdout",
     "output_type": "stream",
     "text": [
      "Erica\n",
      "Jan-19 : 385\n",
      "Feb-19 : 975\n",
      "Mar-19 : 1400\n",
      "Apr-19 : 1570\n",
      "May-19 : 893\n",
      "Jun-19 : 1041\n",
      "Jul-19 : 1219\n",
      "Aug-19 : 1656\n",
      "Sep-19 : 1762\n",
      "Oct-19 : 1497\n",
      "Nov-19 : 1310\n",
      "Dec-19 : 1361\n",
      "Jan-20 : 1135\n",
      "Ben\n",
      "Jan-19 : 298\n",
      "Feb-19 : 785\n",
      "Mar-19 : 1095\n",
      "Apr-19 : 1212\n",
      "May-19 : 719\n",
      "Jun-19 : 849\n",
      "Jul-19 : 1019\n",
      "Aug-19 : 1416\n",
      "Sep-19 : 1570\n",
      "Oct-19 : 1330\n",
      "Nov-19 : 1120\n",
      "Dec-19 : 1156\n",
      "Jan-20 : 1156\n"
     ]
    }
   ],
   "source": [
    "print('Erica')\n",
    "for key in list(month_totals_erica.keys()): \n",
    "    print(key, \":\", month_totals_erica[key]) \n",
    "print('Ben')\n",
    "for key in list(month_totals_ben.keys()): \n",
    "    print(key, \":\", month_totals_ben[key]) "
   ]
  },
  {
   "cell_type": "code",
   "execution_count": 29,
   "metadata": {},
   "outputs": [],
   "source": [
    "# extract textual content of message\n",
    "with open(csv_content, 'w', newline='', encoding=\"utf-8\") as csvfile:\n",
    "    writer = csv.writer(csvfile)\n",
    "    header = ['name', 'content', 'length_char', 'length_words', 'time']\n",
    "    writer.writerow(header)\n",
    "    for f in jsonfiles:\n",
    "        with open(f) as json_file:\n",
    "            data = json.load(json_file)\n",
    "            for m in data['messages']:\n",
    "                if 'content' in m:\n",
    "                    name = m['sender_name']\n",
    "                    content = m['content']\n",
    "                    chars = len(content)\n",
    "                    words = len(content.split())\n",
    "                    timestamp = datetime.fromtimestamp(m['timestamp_ms']//1000.0)\n",
    "                    time = datetime.strftime(timestamp, '%H:%M:%S')\n",
    "                    row = [name, content, chars, words, time]\n",
    "                    writer.writerow(row)"
   ]
  },
  {
   "cell_type": "code",
   "execution_count": 45,
   "metadata": {},
   "outputs": [],
   "source": [
    "# extract gif names\n",
    "with open(csv_gifs, 'w', newline='') as csvfile:\n",
    "    writer = csv.writer(csvfile)\n",
    "    header = ['name', 'month', 'filepath', 'gif_id']\n",
    "    writer.writerow(header)\n",
    "    for f in jsonfiles:\n",
    "        with open(f) as json_file:\n",
    "            data = json.load(json_file)\n",
    "            for m in data['messages']:\n",
    "                if 'gifs' in m:\n",
    "                    name = m['sender_name']\n",
    "                    timestamp = datetime.fromtimestamp(m['timestamp_ms']//1000.0)\n",
    "                    month = datetime.strftime(timestamp, '%B %Y')\n",
    "                    filepath = m['gifs'][0]['uri']\n",
    "                    gif_id = filepath[41:]\n",
    "                    row = [name, month, filepath, gif_id]\n",
    "                    writer.writerow(row)"
   ]
  },
  {
   "cell_type": "code",
   "execution_count": null,
   "metadata": {},
   "outputs": [],
   "source": []
  }
 ],
 "metadata": {
  "kernelspec": {
   "display_name": "Python 3",
   "language": "python",
   "name": "python3"
  },
  "language_info": {
   "codemirror_mode": {
    "name": "ipython",
    "version": 3
   },
   "file_extension": ".py",
   "mimetype": "text/x-python",
   "name": "python",
   "nbconvert_exporter": "python",
   "pygments_lexer": "ipython3",
   "version": "3.7.5"
  }
 },
 "nbformat": 4,
 "nbformat_minor": 2
}
