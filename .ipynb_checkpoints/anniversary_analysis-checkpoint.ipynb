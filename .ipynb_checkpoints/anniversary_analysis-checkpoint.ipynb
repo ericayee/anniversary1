{
 "cells": [
  {
   "cell_type": "code",
   "execution_count": 1,
   "metadata": {},
   "outputs": [],
   "source": [
    "# import librarie we'll need\n",
    "import csv\n",
    "import pandas as pd\n",
    "import json\n",
    "from datetime import datetime"
   ]
  },
  {
   "cell_type": "code",
   "execution_count": 2,
   "metadata": {},
   "outputs": [],
   "source": [
    "# save variable names\n",
    "csvfilename = 'chatdata.csv'\n",
    "jsonfiles = ['messages/inbox/BenFickes_cw7Pu7TBsQ/message_1.json', 'messages/inbox/BenFickes_cw7Pu7TBsQ/message_2.json', 'messages/inbox/BenFickes_cw7Pu7TBsQ/message_3.json']"
   ]
  },
  {
   "cell_type": "code",
   "execution_count": 10,
   "metadata": {},
   "outputs": [],
   "source": [
    "# extract json data of interest to csv\n",
    "with open(csvfilename, 'w', newline='') as csvfile:\n",
    "    writer = csv.writer(csvfile)\n",
    "    header = ['timestamp', 'date', 'month', 'time', 'name']\n",
    "    writer.writerow(header)\n",
    "    for f in jsonfiles:\n",
    "        with open(f) as json_file:\n",
    "            data = json.load(json_file)\n",
    "            for m in data['messages']:\n",
    "                timestamp = datetime.fromtimestamp(m['timestamp_ms']//1000.0)\n",
    "                date = datetime.strftime(timestamp, '%Y-%m-%d')\n",
    "                month = datetime.strftime(timestamp, '%B %Y')\n",
    "                time = datetime.strftime(timestamp, '%H:%M:%S')\n",
    "                name = m['sender_name']\n",
    "                # print('%s %s $s %s' % (timestamp, date, month, time))\n",
    "                row = [timestamp, date, month, time, name]\n",
    "                writer.writerow(row)"
   ]
  },
  {
   "cell_type": "code",
   "execution_count": null,
   "metadata": {},
   "outputs": [],
   "source": [
    "# get summary stats\n",
    "## total messages\n",
    "## how many from each of us\n",
    "## how many per month\n",
    "with open(csvfilename, 'r') as csvfile:\n",
    "    reader = csv.reader(csvfile)\n",
    "    message_count = 0\n",
    "    for row in reader:\n",
    "        if message_count == 0:\n",
    "            message_count += 1\n",
    "        else:\n",
    "            print(f'\\t{row[0]} works in the {row[1]} department, and was born in {row[2]}.')\n",
    "            line_count += 1\n",
    "    print(f'Processed {line_count} lines.')"
   ]
  }
 ],
 "metadata": {
  "kernelspec": {
   "display_name": "Python 3",
   "language": "python",
   "name": "python3"
  },
  "language_info": {
   "codemirror_mode": {
    "name": "ipython",
    "version": 3
   },
   "file_extension": ".py",
   "mimetype": "text/x-python",
   "name": "python",
   "nbconvert_exporter": "python",
   "pygments_lexer": "ipython3",
   "version": "3.7.5"
  }
 },
 "nbformat": 4,
 "nbformat_minor": 2
}
